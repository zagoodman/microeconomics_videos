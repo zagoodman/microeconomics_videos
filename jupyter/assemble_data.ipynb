{
 "cells": [
  {
   "cell_type": "markdown",
   "metadata": {},
   "source": [
    "# View this notebook here:\n",
    "https://nbviewer.jupyter.org/github/zagoodman/microeconomics_videos/blob/master/jupyter/assemble_data.ipynb"
   ]
  },
  {
   "cell_type": "markdown",
   "metadata": {
    "toc": true
   },
   "source": [
    "<h1>Table of Contents<span class=\"tocSkip\"></span></h1>\n",
    "<div class=\"toc\"><ul class=\"toc-item\"><li><span><a href=\"#Prep\" data-toc-modified-id=\"Prep-1\"><span class=\"toc-item-num\">1&nbsp;&nbsp;</span>Prep</a></span></li><li><span><a href=\"#Merge-anonymized-data\" data-toc-modified-id=\"Merge-anonymized-data-2\"><span class=\"toc-item-num\">2&nbsp;&nbsp;</span>Merge anonymized data</a></span><ul class=\"toc-item\"><li><span><a href=\"#Demographic-data\" data-toc-modified-id=\"Demographic-data-2.1\"><span class=\"toc-item-num\">2.1&nbsp;&nbsp;</span>Demographic data</a></span><ul class=\"toc-item\"><li><span><a href=\"#Preceding-term-vars\" data-toc-modified-id=\"Preceding-term-vars-2.1.1\"><span class=\"toc-item-num\">2.1.1&nbsp;&nbsp;</span>Preceding term vars</a></span></li><li><span><a href=\"#Student-level\" data-toc-modified-id=\"Student-level-2.1.2\"><span class=\"toc-item-num\">2.1.2&nbsp;&nbsp;</span>Student-level</a></span></li><li><span><a href=\"#GPA-and-course-units\" data-toc-modified-id=\"GPA-and-course-units-2.1.3\"><span class=\"toc-item-num\">2.1.3&nbsp;&nbsp;</span>GPA and course units</a></span><ul class=\"toc-item\"><li><span><a href=\"#Concurrent-term\" data-toc-modified-id=\"Concurrent-term-2.1.3.1\"><span class=\"toc-item-num\">2.1.3.1&nbsp;&nbsp;</span>Concurrent term</a></span></li><li><span><a href=\"#Following-term\" data-toc-modified-id=\"Following-term-2.1.3.2\"><span class=\"toc-item-num\">2.1.3.2&nbsp;&nbsp;</span>Following term</a></span></li></ul></li></ul></li><li><span><a href=\"#Treatment-and-outcome-data\" data-toc-modified-id=\"Treatment-and-outcome-data-2.2\"><span class=\"toc-item-num\">2.2&nbsp;&nbsp;</span>Treatment and outcome data</a></span><ul class=\"toc-item\"><li><span><a href=\"#Student-level\" data-toc-modified-id=\"Student-level-2.2.1\"><span class=\"toc-item-num\">2.2.1&nbsp;&nbsp;</span>Student level</a></span></li></ul></li></ul></li></ul></div>"
   ]
  },
  {
   "cell_type": "markdown",
   "metadata": {},
   "source": [
    "This file takes anonymized data from the T+LC, cleans them, and returns analysis-ready data frames:\n",
    "1. `id-year_level_data.csv`: treatment and exam score data\n",
    "2. `dem_concurrent.csv`: demographic data and GPA/courseload during the quarter of the experiment\n",
    "3. `dem_nextquarter.csv`: demographic data and GPA/courseload during the quarter following treatment\n",
    "\n",
    "All code in this file is in Python 3."
   ]
  },
  {
   "cell_type": "markdown",
   "metadata": {},
   "source": [
    "## Prep"
   ]
  },
  {
   "cell_type": "code",
   "execution_count": 1,
   "metadata": {},
   "outputs": [],
   "source": [
    "import pandas as pd\n",
    "import numpy as np\n",
    "pd.set_option('display.max_columns', 100)\n",
    "pd.set_option('display.max_rows', 100)"
   ]
  },
  {
   "cell_type": "code",
   "execution_count": 2,
   "metadata": {},
   "outputs": [],
   "source": [
    "import pandas_flavor as pf\n",
    "\n",
    "@pf.register_dataframe_accessor('z')\n",
    "class MyFlavor(object):\n",
    "    \n",
    "    def __init__(self, df):\n",
    "        self._df = df\n",
    "\n",
    "    def get_unique_students(self, var1 = \"id\", var2 = \"year\"):\n",
    "        df = self._df\n",
    "        x = len(df[[var1, var2]].drop_duplicates())\n",
    "        print(\"N unique students: {}\".format(x))\n",
    "        return x\n",
    "    \n",
    "    def get_vars(self):\n",
    "        df = self._df\n",
    "        cols = [x for x in df if x in tlcvarnames]\n",
    "        return df[cols].rename(columns = tlcvarnames)\n",
    "    \n",
    "tlcvarnames = {'id': 'id',\n",
    "               'year': 'year',\n",
    "               'de id': 'id', \n",
    "               'deid': 'id',\n",
    "               'previous_cum_gpa': 'prev_cumgpa',\n",
    "               'term_code_econ': 'term',\n",
    "               'term-econ100a': 'term',\n",
    "               'term code courses': 'term_courses',\n",
    "               'term_precoursegpa': 'term_pregpa',\n",
    "               'term code econ 100a': 'termecon',\n",
    "               'apct_type_desc': 'apptype',\n",
    "               'ethnicity_grouped': 'ethnicity',\n",
    "               'gender': 'gender',\n",
    "               'term_code_econ': 'term',\n",
    "               'year_econ': 'year',\n",
    "               'year - econ 100a': 'year',\n",
    "               'year - econ100a': 'year',\n",
    "               'year-econ100a': 'year',\n",
    "               'year-zack': 'year',\n",
    "               'measure names': 'measure',\n",
    "               'measure values': 'values',\n",
    "               'Class Units - Letter Grade': 'units_letter',\n",
    "               'Class Units - P/NP': 'units_pnp',\n",
    "               'Class Units - Withdrawn': 'units_w',\n",
    "               'GPA - Classes Letter Grade': 'gpa_letter',\n",
    "               'GPA - Classes Letter Grade - No Econ': 'gpa_letter_sansecon',\n",
    "               'GPA - Classes Letter Grade - No Econ 100A': 'gpa_letter_sans100a',\n",
    "               'GPA - Classes Letter Grade - Only Econ - No Econ 100A': 'gpa_econ_sans100a',\n",
    "               'N Classes - Letter Grade': 'nclass_letter',\n",
    "               'N Classes - Not Passed': 'nclass_np',\n",
    "               'N Classes - P/NP': 'nclass_pnp',\n",
    "               'N Classes - Passed': 'nclass_p',\n",
    "               'N Classes - Withdrawn': 'nclass_w'\n",
    "              }"
   ]
  },
  {
   "cell_type": "markdown",
   "metadata": {},
   "source": [
    "## Merge anonymized data"
   ]
  },
  {
   "cell_type": "markdown",
   "metadata": {},
   "source": [
    "### Demographic data"
   ]
  },
  {
   "cell_type": "markdown",
   "metadata": {},
   "source": [
    "#### Preceding term vars"
   ]
  },
  {
   "cell_type": "code",
   "execution_count": 3,
   "metadata": {},
   "outputs": [
    {
     "name": "stdout",
     "output_type": "stream",
     "text": [
      "598\n",
      "N unique students: 598\n"
     ]
    },
    {
     "data": {
      "text/plain": [
       "id             0\n",
       "year           0\n",
       "term_pregpa    0\n",
       "prev_cumgpa    0\n",
       "dtype: int64"
      ]
     },
     "metadata": {},
     "output_type": "display_data"
    }
   ],
   "source": [
    "# pre 100A (term before) cumulative gpa. Missing for all entering freshmen or first time UCSD students\n",
    "\n",
    "dfd = pd.read_excel(\"../data/raw/Econ-Goodman-Su20-Pre Course GPA-FA18.xlsx\")\n",
    "dfd = pd.concat([dfd, pd.read_excel(\"../data/raw/Econ-Goodman-Su20-Pre Course GPA-FA19.xlsx\")], 0)\n",
    "dfd.columns = [x.lower() for x in dfd.columns]\n",
    "dfd = dfd.z.get_vars()\n",
    "dfd.loc[dfd.term == 'FA18', 'year'] = 2018\n",
    "dfd.loc[dfd.term == 'FA19', 'year'] = 2019\n",
    "# reorder and drop term\n",
    "dfd = dfd[['id', 'year', 'term_pregpa', 'prev_cumgpa']]\n",
    "\n",
    "print(len(dfd))\n",
    "dfd.z.get_unique_students(var2='id')\n",
    "display(dfd.isnull().sum())\n",
    "#dfd.head()"
   ]
  },
  {
   "cell_type": "markdown",
   "metadata": {},
   "source": [
    "#### Student-level"
   ]
  },
  {
   "cell_type": "code",
   "execution_count": 4,
   "metadata": {},
   "outputs": [
    {
     "name": "stdout",
     "output_type": "stream",
     "text": [
      "850\n",
      "N unique students: 850\n",
      "id               0\n",
      "year             0\n",
      "ethnicity        0\n",
      "gender           0\n",
      "transfer         0\n",
      "apptype          0\n",
      "term_pregpa    252\n",
      "prev_cumgpa    252\n",
      "dtype: int64\n"
     ]
    }
   ],
   "source": [
    "# ethnicity, gender, transfer status\n",
    "\n",
    "df = pd.read_excel(\"../data/raw/Econ-Goodman-Su20-Student-level.xlsx\")\n",
    "df.rename(str.lower, axis=1, inplace=True)\n",
    "df = df.z.get_vars()\n",
    "df['transfer'] = np.array(df.apptype == 'Transfer Student', dtype='int')\n",
    "df.loc[df.gender == 'Men (Cis & Trans)', 'gender'] = 'm'\n",
    "df.loc[df.gender == 'Women (Cis & Trans)', 'gender'] = 'f'\n",
    "df.loc[df.gender == 'Data Unavailable', 'gender'] = 'u'\n",
    "# drop term and reorder\n",
    "df = df[['id', 'year', 'ethnicity', 'gender', 'transfer', 'apptype']]\n",
    "\n",
    "# merge with dfd\n",
    "dfd = df.merge(dfd, how='outer', on=['id', 'year'])\n",
    "\n",
    "print(len(dfd))\n",
    "dfd.z.get_unique_students()\n",
    "print(dfd.isnull().sum())\n",
    "#dfd.head()"
   ]
  },
  {
   "cell_type": "markdown",
   "metadata": {},
   "source": [
    "#### GPA and course units"
   ]
  },
  {
   "cell_type": "code",
   "execution_count": 5,
   "metadata": {},
   "outputs": [
    {
     "name": "stdout",
     "output_type": "stream",
     "text": [
      "21749\n"
     ]
    },
    {
     "data": {
      "text/html": [
       "<div>\n",
       "<style scoped>\n",
       "    .dataframe tbody tr th:only-of-type {\n",
       "        vertical-align: middle;\n",
       "    }\n",
       "\n",
       "    .dataframe tbody tr th {\n",
       "        vertical-align: top;\n",
       "    }\n",
       "\n",
       "    .dataframe thead th {\n",
       "        text-align: right;\n",
       "    }\n",
       "</style>\n",
       "<table border=\"1\" class=\"dataframe\">\n",
       "  <thead>\n",
       "    <tr style=\"text-align: right;\">\n",
       "      <th>term</th>\n",
       "      <th>FA18</th>\n",
       "      <th>FA19</th>\n",
       "    </tr>\n",
       "    <tr>\n",
       "      <th>year</th>\n",
       "      <th></th>\n",
       "      <th></th>\n",
       "    </tr>\n",
       "  </thead>\n",
       "  <tbody>\n",
       "    <tr>\n",
       "      <th>2018</th>\n",
       "      <td>11076</td>\n",
       "      <td>0</td>\n",
       "    </tr>\n",
       "    <tr>\n",
       "      <th>2019</th>\n",
       "      <td>0</td>\n",
       "      <td>10673</td>\n",
       "    </tr>\n",
       "  </tbody>\n",
       "</table>\n",
       "</div>"
      ],
      "text/plain": [
       "term   FA18   FA19\n",
       "year              \n",
       "2018  11076      0\n",
       "2019      0  10673"
      ]
     },
     "metadata": {},
     "output_type": "display_data"
    }
   ],
   "source": [
    "df = pd.read_excel(\"../data/raw/Econ-Goodman-Su20-Student-quarter-level_FA18-WI19.xlsx\")\n",
    "df.columns = [x.lower() for x in df.columns]\n",
    "df = df.z.get_vars()\n",
    "df2 = pd.read_excel(\"../data/raw/Econ-Goodman-Su20-Student-quarter-level_FA19-WI20.xlsx\")\n",
    "df2.columns = [x.lower() for x in df2.columns]\n",
    "df2 = df2.z.get_vars()\n",
    "\n",
    "df = pd.concat([df, df2], 0)\n",
    "print(len(df))\n",
    "display(pd.crosstab(df.year, df.term))"
   ]
  },
  {
   "cell_type": "markdown",
   "metadata": {},
   "source": [
    "##### Concurrent term"
   ]
  },
  {
   "cell_type": "code",
   "execution_count": 6,
   "metadata": {},
   "outputs": [
    {
     "name": "stdout",
     "output_type": "stream",
     "text": [
      "850\n",
      "N unique students: 850\n",
      "id                      object\n",
      "year                     int64\n",
      "ethnicity               object\n",
      "gender                  object\n",
      "transfer                 int32\n",
      "apptype                 object\n",
      "term_pregpa             object\n",
      "prev_cumgpa            float64\n",
      "units_letter           float64\n",
      "units_pnp              float64\n",
      "units_w                float64\n",
      "gpa_letter             float64\n",
      "gpa_letter_sansecon    float64\n",
      "gpa_letter_sans100a    float64\n",
      "gpa_econ_sans100a      float64\n",
      "nclass_letter          float64\n",
      "nclass_np              float64\n",
      "nclass_pnp             float64\n",
      "nclass_p               float64\n",
      "nclass_w               float64\n",
      "dtype: object\n",
      "id                       0\n",
      "year                     0\n",
      "ethnicity                0\n",
      "gender                   0\n",
      "transfer                 0\n",
      "apptype                  0\n",
      "term_pregpa            252\n",
      "prev_cumgpa            252\n",
      "units_letter             0\n",
      "units_pnp                0\n",
      "units_w                  0\n",
      "gpa_letter               2\n",
      "gpa_letter_sansecon    102\n",
      "gpa_letter_sans100a      5\n",
      "gpa_econ_sans100a      288\n",
      "nclass_letter            0\n",
      "nclass_np              433\n",
      "nclass_pnp               0\n",
      "nclass_p                 0\n",
      "nclass_w                 0\n",
      "dtype: int64\n"
     ]
    }
   ],
   "source": [
    "## concurrent data\n",
    "\n",
    "dfc = df.loc[df.term_courses.isin([\"FA18\", \"FA19\"])]\n",
    "dfc = dfc[['id', 'year', 'measure', 'values']]\n",
    "\n",
    "# reshape wide\n",
    "dfc = dfc.pivot_table(index=['id', 'year'], columns='measure', values='values').reset_index()\n",
    "dfc = dfc.z.get_vars()\n",
    "\n",
    "# merge with rest of demographic data\n",
    "dfd = dfd.merge(dfc, how='outer', on=['id', 'year'])\n",
    "\n",
    "# add zeros where needed\n",
    "for x in ['units_pnp', 'units_w']:\n",
    "    dfd.loc[dfd[x].isnull(), x] = 0\n",
    "\n",
    "# check and explore data\n",
    "print(len(dfd))\n",
    "dfd.z.get_unique_students()\n",
    "print(dfd.dtypes)\n",
    "print(dfd.isnull().sum())\n",
    "\n",
    "# export\n",
    "dfd.to_csv(\"../data/generated/dem_concurrent.csv\", index=False)"
   ]
  },
  {
   "cell_type": "markdown",
   "metadata": {},
   "source": [
    "##### Following term"
   ]
  },
  {
   "cell_type": "code",
   "execution_count": 7,
   "metadata": {},
   "outputs": [
    {
     "name": "stdout",
     "output_type": "stream",
     "text": [
      "850\n",
      "N unique students: 850\n",
      "id                      object\n",
      "year                     int64\n",
      "ethnicity               object\n",
      "gender                  object\n",
      "transfer                 int32\n",
      "apptype                 object\n",
      "term_pregpa             object\n",
      "prev_cumgpa            float64\n",
      "units_letter           float64\n",
      "units_pnp              float64\n",
      "units_w                float64\n",
      "gpa_letter             float64\n",
      "gpa_letter_sansecon    float64\n",
      "gpa_letter_sans100a    float64\n",
      "gpa_econ_sans100a      float64\n",
      "nclass_letter          float64\n",
      "nclass_np              float64\n",
      "nclass_pnp             float64\n",
      "nclass_p               float64\n",
      "nclass_w               float64\n",
      "dtype: object\n",
      "id                       0\n",
      "year                     0\n",
      "ethnicity                0\n",
      "gender                   0\n",
      "transfer                 0\n",
      "apptype                  0\n",
      "term_pregpa            252\n",
      "prev_cumgpa            252\n",
      "units_letter             0\n",
      "units_pnp                0\n",
      "units_w                  0\n",
      "gpa_letter              29\n",
      "gpa_letter_sansecon    137\n",
      "gpa_letter_sans100a     29\n",
      "gpa_econ_sans100a      150\n",
      "nclass_letter            0\n",
      "nclass_np                0\n",
      "nclass_pnp               0\n",
      "nclass_p                 0\n",
      "nclass_w                 0\n",
      "dtype: int64\n"
     ]
    }
   ],
   "source": [
    "## following quarter's data\n",
    "\n",
    "dff = df.loc[df.term_courses.isin([\"WI19\", \"WI20\"])]\n",
    "dff = dff[['id', 'year', 'measure', 'values']]\n",
    "\n",
    "# reshape wide\n",
    "dff = dff.pivot_table(index=['id', 'year'], columns='measure', values='values').reset_index()\n",
    "dff = dff.z.get_vars()\n",
    "\n",
    "# merge with rest of demographic data\n",
    "dfd = dfd.iloc[:, 0:8]\n",
    "dfd = dfd.merge(dff, how='outer', on=['id', 'year'])\n",
    "\n",
    "# add zeros where needed\n",
    "for x in ['units_letter', 'units_pnp', 'units_w', \\\n",
    "          'nclass_letter', 'nclass_np', 'nclass_pnp', \\\n",
    "          'nclass_p', 'nclass_w']:\n",
    "    dfd.loc[dfd[x].isnull(), x] = 0\n",
    "\n",
    "# check and explore data\n",
    "print(len(dfd))\n",
    "dfd.z.get_unique_students()\n",
    "print(dfd.dtypes)\n",
    "print(dfd.isnull().sum())\n",
    "\n",
    "# export\n",
    "dfd.to_csv(\"../data/generated/dem_nextquarter.csv\", index=False)"
   ]
  },
  {
   "cell_type": "markdown",
   "metadata": {},
   "source": [
    "### Treatment and outcome data"
   ]
  },
  {
   "cell_type": "markdown",
   "metadata": {},
   "source": [
    "#### Student level"
   ]
  },
  {
   "cell_type": "code",
   "execution_count": 8,
   "metadata": {},
   "outputs": [
    {
     "name": "stdout",
     "output_type": "stream",
     "text": [
      "850\n",
      "N unique students: 850\n"
     ]
    }
   ],
   "source": [
    "df = pd.read_excel(\"../data/raw/DeID_all_pid-year-level_data with description.xlsx\")\n",
    "df.rename(columns={'DeID': 'id'}, inplace=True)\n",
    "print(len(df))\n",
    "df.z.get_unique_students()\n",
    "df = df[['id'] + [x for x in df.columns if x != 'id']]\n",
    "#df.head()"
   ]
  },
  {
   "cell_type": "code",
   "execution_count": 9,
   "metadata": {},
   "outputs": [
    {
     "name": "stdout",
     "output_type": "stream",
     "text": [
      "850\n",
      "850\n",
      "N unique students: 850\n"
     ]
    }
   ],
   "source": [
    "# I think that's all I need for now...may add more later\n",
    "\n",
    "# drop the two duplicate entries\n",
    "print(len(df))\n",
    "df = df.drop_duplicates()\n",
    "print(len(df))\n",
    "df.z.get_unique_students()\n",
    "\n",
    "# export\n",
    "df.to_csv(\"../data/generated/id-year_level_data.csv\", index=False)"
   ]
  },
  {
   "cell_type": "code",
   "execution_count": null,
   "metadata": {},
   "outputs": [],
   "source": []
  }
 ],
 "metadata": {
  "kernelspec": {
   "display_name": "Python 3",
   "language": "python",
   "name": "python3"
  },
  "language_info": {
   "codemirror_mode": {
    "name": "ipython",
    "version": 3
   },
   "file_extension": ".py",
   "mimetype": "text/x-python",
   "name": "python",
   "nbconvert_exporter": "python",
   "pygments_lexer": "ipython3",
   "version": "3.7.9"
  },
  "toc": {
   "base_numbering": 1,
   "nav_menu": {},
   "number_sections": true,
   "sideBar": true,
   "skip_h1_title": true,
   "title_cell": "Table of Contents",
   "title_sidebar": "Contents",
   "toc_cell": true,
   "toc_position": {},
   "toc_section_display": true,
   "toc_window_display": true
  }
 },
 "nbformat": 4,
 "nbformat_minor": 4
}
